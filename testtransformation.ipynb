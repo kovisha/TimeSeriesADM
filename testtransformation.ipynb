{
 "cells": [
  {
   "cell_type": "code",
   "execution_count": 51,
   "metadata": {},
   "outputs": [],
   "source": [
    "import pandas as pd\n",
    "import numpy as np\n",
    "from sklearn.preprocessing import OneHotEncoder"
   ]
  },
  {
   "cell_type": "code",
   "execution_count": 52,
   "metadata": {},
   "outputs": [],
   "source": [
    "train_df = pd.read_csv(\"data/store-sales-time-series-forecasting/train.csv\")\n",
    "test_df = pd.read_csv(\"data/store-sales-time-series-forecasting/test.csv\")\n",
    "stores_df = pd.read_csv(\"data//store-sales-time-series-forecasting/stores.csv\")\n",
    "oil_df = pd.read_csv(\"data/store-sales-time-series-forecasting/oil.csv\")\n",
    "holidays_events_df = pd.read_csv(\"data/store-sales-time-series-forecasting/holidays_events.csv\")\n",
    "transactions_df = pd.read_csv(\"data/store-sales-time-series-forecasting/transactions.csv\")"
   ]
  },
  {
   "cell_type": "code",
   "execution_count": 53,
   "metadata": {},
   "outputs": [],
   "source": [
    "# Merging the common columns ('store_nbr' and 'date') in the datasets using the inner merge() function\n",
    "# Merge train_df with stores_df based on 'store_nbr' column\n",
    "merged_df1 = test_df.merge(stores_df, on='store_nbr', how='inner')\n",
    "\n",
    "# # Merge merged_df1 with transactions_df based on 'date' and 'store_nbr' columns\n",
    "# merged_df2 = merged_df1.merge(transactions_df, on=['date', 'store_nbr'], how='inner')\n",
    "\n",
    "# # Merge merged_df2 with holidays_events_df based on 'date' column\n",
    "# merged_df3 = merged_df1.merge(holidays_events_df, on='date', how='inner')\n",
    "\n",
    "# # Merge merged_df3 with oil_df based on 'date' column\n",
    "test_df2 = merged_df1.merge(oil_df, on='date', how='inner')\n",
    "\n",
    "# # View the first five rows of the merged dataset\n",
    "# test_df2.head()"
   ]
  },
  {
   "cell_type": "code",
   "execution_count": 56,
   "metadata": {},
   "outputs": [
    {
     "data": {
      "text/plain": [
       "Index(['date', 'dcoilwtico'], dtype='object')"
      ]
     },
     "execution_count": 56,
     "metadata": {},
     "output_type": "execute_result"
    }
   ],
   "source": [
    "oil_df.columns"
   ]
  },
  {
   "cell_type": "code",
   "execution_count": 55,
   "metadata": {},
   "outputs": [
    {
     "data": {
      "text/plain": [
       "(21384, 10)"
      ]
     },
     "execution_count": 55,
     "metadata": {},
     "output_type": "execute_result"
    }
   ],
   "source": [
    "test_df2.shape"
   ]
  },
  {
   "cell_type": "code",
   "execution_count": 48,
   "metadata": {},
   "outputs": [],
   "source": [
    "test_df2 = test_df2.rename(columns={\"type_x\": \"store_type\", \"type_y\": \"holiday_type\"})"
   ]
  },
  {
   "cell_type": "code",
   "execution_count": 31,
   "metadata": {},
   "outputs": [],
   "source": [
    "test_df2['date'] = pd.to_datetime(test_df2['date'])\n",
    "test_df2['year'] = test_df2['date'].dt.year"
   ]
  },
  {
   "cell_type": "code",
   "execution_count": 32,
   "metadata": {},
   "outputs": [],
   "source": [
    "test_df2['month'] = test_df2['date'].dt.month\n",
    "test_df2['day'] = test_df2['date'].dt.day\n",
    "test_df2['date'] = pd.to_datetime(test_df2['date'])\n",
    "test_df2['year'] = test_df2['date'].dt.year\n",
    "\n",
    "test_df2['day_of_week'] = test_df2['date'].dt.dayofweek"
   ]
  },
  {
   "cell_type": "code",
   "execution_count": 50,
   "metadata": {},
   "outputs": [
    {
     "data": {
      "text/plain": [
       "(21384, 10)"
      ]
     },
     "execution_count": 50,
     "metadata": {},
     "output_type": "execute_result"
    }
   ],
   "source": [
    "test_df2.shape"
   ]
  },
  {
   "cell_type": "code",
   "execution_count": 36,
   "metadata": {},
   "outputs": [],
   "source": [
    "columns_to_drop = ['date','id', 'state']"
   ]
  },
  {
   "cell_type": "code",
   "execution_count": 37,
   "metadata": {},
   "outputs": [],
   "source": [
    "test_df2 = test_df2.drop(columns=columns_to_drop)"
   ]
  },
  {
   "cell_type": "code",
   "execution_count": 38,
   "metadata": {},
   "outputs": [],
   "source": [
    "# Define the category lists for each product category\n",
    "food_families = ['BEVERAGES', 'BREAD/BAKERY', 'FROZEN FOODS', 'MEATS', 'PREPARED FOODS', 'DELI','PRODUCE', 'DAIRY','POULTRY','EGGS','SEAFOOD']\n",
    "home_families = ['HOME AND KITCHEN I', 'HOME AND KITCHEN II', 'HOME APPLIANCES']\n",
    "clothing_families = ['LINGERIE', 'LADYSWARE']\n",
    "grocery_families = ['GROCERY I', 'GROCERY II']\n",
    "stationery_families = ['BOOKS', 'MAGAZINES','SCHOOL AND OFFICE SUPPLIES']\n",
    "cleaning_families = ['HOME CARE', 'BABY CARE','PERSONAL CARE']\n",
    "hardware_families = ['PLAYERS AND ELECTRONICS','HARDWARE']"
   ]
  },
  {
   "cell_type": "code",
   "execution_count": 39,
   "metadata": {},
   "outputs": [],
   "source": [
    "test_df2['family'] = np.where(test_df2['family'].isin(food_families), 'FOODS', test_df2['family'])\n",
    "test_df2['family'] = np.where(test_df2['family'].isin(home_families), 'HOME', test_df2['family'])\n",
    "test_df2['family'] = np.where(test_df2['family'].isin(clothing_families), 'CLOTHING', test_df2['family'])\n",
    "test_df2['family'] = np.where(test_df2['family'].isin(grocery_families), 'GROCERY', test_df2['family'])\n",
    "test_df2['family'] = np.where(test_df2['family'].isin(stationery_families), 'STATIONERY', test_df2['family'])\n",
    "test_df2['family'] = np.where(test_df2['family'].isin(cleaning_families), 'CLEANING', test_df2['family'])\n",
    "test_df2['family'] = np.where(test_df2['family'].isin(hardware_families), 'HARDWARE', test_df2['family'])"
   ]
  },
  {
   "cell_type": "code",
   "execution_count": 41,
   "metadata": {},
   "outputs": [
    {
     "data": {
      "text/html": [
       "<div>\n",
       "<style scoped>\n",
       "    .dataframe tbody tr th:only-of-type {\n",
       "        vertical-align: middle;\n",
       "    }\n",
       "\n",
       "    .dataframe tbody tr th {\n",
       "        vertical-align: top;\n",
       "    }\n",
       "\n",
       "    .dataframe thead th {\n",
       "        text-align: right;\n",
       "    }\n",
       "</style>\n",
       "<table border=\"1\" class=\"dataframe\">\n",
       "  <thead>\n",
       "    <tr style=\"text-align: right;\">\n",
       "      <th></th>\n",
       "      <th>store_nbr</th>\n",
       "      <th>onpromotion</th>\n",
       "      <th>type</th>\n",
       "      <th>cluster</th>\n",
       "      <th>dcoilwtico</th>\n",
       "      <th>year</th>\n",
       "      <th>month</th>\n",
       "      <th>day</th>\n",
       "      <th>day_of_week</th>\n",
       "      <th>family_AUTOMOTIVE</th>\n",
       "      <th>...</th>\n",
       "      <th>city_Loja</th>\n",
       "      <th>city_Machala</th>\n",
       "      <th>city_Manta</th>\n",
       "      <th>city_Playas</th>\n",
       "      <th>city_Puyo</th>\n",
       "      <th>city_Quevedo</th>\n",
       "      <th>city_Quito</th>\n",
       "      <th>city_Riobamba</th>\n",
       "      <th>city_Salinas</th>\n",
       "      <th>city_Santo Domingo</th>\n",
       "    </tr>\n",
       "  </thead>\n",
       "  <tbody>\n",
       "    <tr>\n",
       "      <th>0</th>\n",
       "      <td>1</td>\n",
       "      <td>0</td>\n",
       "      <td>D</td>\n",
       "      <td>13</td>\n",
       "      <td>46.8</td>\n",
       "      <td>2017</td>\n",
       "      <td>8</td>\n",
       "      <td>16</td>\n",
       "      <td>2</td>\n",
       "      <td>1.0</td>\n",
       "      <td>...</td>\n",
       "      <td>0.0</td>\n",
       "      <td>0.0</td>\n",
       "      <td>0.0</td>\n",
       "      <td>0.0</td>\n",
       "      <td>0.0</td>\n",
       "      <td>0.0</td>\n",
       "      <td>1.0</td>\n",
       "      <td>0.0</td>\n",
       "      <td>0.0</td>\n",
       "      <td>0.0</td>\n",
       "    </tr>\n",
       "    <tr>\n",
       "      <th>1</th>\n",
       "      <td>1</td>\n",
       "      <td>0</td>\n",
       "      <td>D</td>\n",
       "      <td>13</td>\n",
       "      <td>46.8</td>\n",
       "      <td>2017</td>\n",
       "      <td>8</td>\n",
       "      <td>16</td>\n",
       "      <td>2</td>\n",
       "      <td>0.0</td>\n",
       "      <td>...</td>\n",
       "      <td>0.0</td>\n",
       "      <td>0.0</td>\n",
       "      <td>0.0</td>\n",
       "      <td>0.0</td>\n",
       "      <td>0.0</td>\n",
       "      <td>0.0</td>\n",
       "      <td>1.0</td>\n",
       "      <td>0.0</td>\n",
       "      <td>0.0</td>\n",
       "      <td>0.0</td>\n",
       "    </tr>\n",
       "    <tr>\n",
       "      <th>2</th>\n",
       "      <td>1</td>\n",
       "      <td>2</td>\n",
       "      <td>D</td>\n",
       "      <td>13</td>\n",
       "      <td>46.8</td>\n",
       "      <td>2017</td>\n",
       "      <td>8</td>\n",
       "      <td>16</td>\n",
       "      <td>2</td>\n",
       "      <td>0.0</td>\n",
       "      <td>...</td>\n",
       "      <td>0.0</td>\n",
       "      <td>0.0</td>\n",
       "      <td>0.0</td>\n",
       "      <td>0.0</td>\n",
       "      <td>0.0</td>\n",
       "      <td>0.0</td>\n",
       "      <td>1.0</td>\n",
       "      <td>0.0</td>\n",
       "      <td>0.0</td>\n",
       "      <td>0.0</td>\n",
       "    </tr>\n",
       "    <tr>\n",
       "      <th>3</th>\n",
       "      <td>1</td>\n",
       "      <td>20</td>\n",
       "      <td>D</td>\n",
       "      <td>13</td>\n",
       "      <td>46.8</td>\n",
       "      <td>2017</td>\n",
       "      <td>8</td>\n",
       "      <td>16</td>\n",
       "      <td>2</td>\n",
       "      <td>0.0</td>\n",
       "      <td>...</td>\n",
       "      <td>0.0</td>\n",
       "      <td>0.0</td>\n",
       "      <td>0.0</td>\n",
       "      <td>0.0</td>\n",
       "      <td>0.0</td>\n",
       "      <td>0.0</td>\n",
       "      <td>1.0</td>\n",
       "      <td>0.0</td>\n",
       "      <td>0.0</td>\n",
       "      <td>0.0</td>\n",
       "    </tr>\n",
       "    <tr>\n",
       "      <th>4</th>\n",
       "      <td>1</td>\n",
       "      <td>0</td>\n",
       "      <td>D</td>\n",
       "      <td>13</td>\n",
       "      <td>46.8</td>\n",
       "      <td>2017</td>\n",
       "      <td>8</td>\n",
       "      <td>16</td>\n",
       "      <td>2</td>\n",
       "      <td>0.0</td>\n",
       "      <td>...</td>\n",
       "      <td>0.0</td>\n",
       "      <td>0.0</td>\n",
       "      <td>0.0</td>\n",
       "      <td>0.0</td>\n",
       "      <td>0.0</td>\n",
       "      <td>0.0</td>\n",
       "      <td>1.0</td>\n",
       "      <td>0.0</td>\n",
       "      <td>0.0</td>\n",
       "      <td>0.0</td>\n",
       "    </tr>\n",
       "  </tbody>\n",
       "</table>\n",
       "<p>5 rows × 45 columns</p>\n",
       "</div>"
      ],
      "text/plain": [
       "   store_nbr  onpromotion type  cluster  dcoilwtico  year  month  day  \\\n",
       "0          1            0    D       13        46.8  2017      8   16   \n",
       "1          1            0    D       13        46.8  2017      8   16   \n",
       "2          1            2    D       13        46.8  2017      8   16   \n",
       "3          1           20    D       13        46.8  2017      8   16   \n",
       "4          1            0    D       13        46.8  2017      8   16   \n",
       "\n",
       "   day_of_week  family_AUTOMOTIVE  ...  city_Loja  city_Machala  city_Manta  \\\n",
       "0            2                1.0  ...        0.0           0.0         0.0   \n",
       "1            2                0.0  ...        0.0           0.0         0.0   \n",
       "2            2                0.0  ...        0.0           0.0         0.0   \n",
       "3            2                0.0  ...        0.0           0.0         0.0   \n",
       "4            2                0.0  ...        0.0           0.0         0.0   \n",
       "\n",
       "   city_Playas  city_Puyo  city_Quevedo  city_Quito  city_Riobamba  \\\n",
       "0          0.0        0.0           0.0         1.0            0.0   \n",
       "1          0.0        0.0           0.0         1.0            0.0   \n",
       "2          0.0        0.0           0.0         1.0            0.0   \n",
       "3          0.0        0.0           0.0         1.0            0.0   \n",
       "4          0.0        0.0           0.0         1.0            0.0   \n",
       "\n",
       "   city_Salinas  city_Santo Domingo  \n",
       "0           0.0                 0.0  \n",
       "1           0.0                 0.0  \n",
       "2           0.0                 0.0  \n",
       "3           0.0                 0.0  \n",
       "4           0.0                 0.0  \n",
       "\n",
       "[5 rows x 45 columns]"
      ]
     },
     "execution_count": 41,
     "metadata": {},
     "output_type": "execute_result"
    }
   ],
   "source": [
    "encoder = OneHotEncoder()\n",
    "categorical_columns = [\"family\", \"city\"]\n",
    "one_hot_encoded_test = encoder.fit_transform(test_df2[categorical_columns])\n",
    "\n",
    "# Create column names for the one-hot encoded data\n",
    "column_names = encoder.get_feature_names_out(categorical_columns)\n",
    "\n",
    "# Convert the one-hot encoded data to a DataFrame\n",
    "merged_df_encoded_test = pd.DataFrame(one_hot_encoded_test.toarray(), columns=column_names)\n",
    "\n",
    "# Concatenate the original dataframe with the one-hot encoded data\n",
    "merged_df_encoded_test = pd.concat([test_df2, merged_df_encoded_test], axis=1)\n",
    "\n",
    "# Drop the original categorical columns\n",
    "merged_df_encoded_test.drop(categorical_columns, axis=1, inplace=True)\n",
    "\n",
    "# Print the head of the encoded DataFrame\n",
    "merged_df_encoded_test.head()"
   ]
  },
  {
   "cell_type": "code",
   "execution_count": 42,
   "metadata": {},
   "outputs": [
    {
     "data": {
      "text/plain": [
       "(21384, 45)"
      ]
     },
     "execution_count": 42,
     "metadata": {},
     "output_type": "execute_result"
    }
   ],
   "source": [
    "merged_df_encoded_test.shape"
   ]
  },
  {
   "cell_type": "code",
   "execution_count": null,
   "metadata": {},
   "outputs": [],
   "source": []
  },
  {
   "cell_type": "code",
   "execution_count": null,
   "metadata": {},
   "outputs": [],
   "source": []
  },
  {
   "cell_type": "code",
   "execution_count": null,
   "metadata": {},
   "outputs": [],
   "source": []
  }
 ],
 "metadata": {
  "kernelspec": {
   "display_name": "adm",
   "language": "python",
   "name": "python3"
  },
  "language_info": {
   "codemirror_mode": {
    "name": "ipython",
    "version": 3
   },
   "file_extension": ".py",
   "mimetype": "text/x-python",
   "name": "python",
   "nbconvert_exporter": "python",
   "pygments_lexer": "ipython3",
   "version": "3.12.0"
  }
 },
 "nbformat": 4,
 "nbformat_minor": 2
}
