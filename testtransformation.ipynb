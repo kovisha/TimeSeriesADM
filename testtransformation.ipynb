{
 "cells": [
  {
   "cell_type": "code",
   "execution_count": null,
   "metadata": {},
   "outputs": [],
   "source": [
    "# Merging the common columns ('store_nbr' and 'date') in the datasets using the inner merge() function\n",
    "# Merge train_df with stores_df based on 'store_nbr' column\n",
    "merged_df1 = test_df.merge(stores_df, on='store_nbr', how='inner')\n",
    "\n",
    "# # Merge merged_df1 with transactions_df based on 'date' and 'store_nbr' columns\n",
    "# merged_df2 = merged_df1.merge(transactions_df, on=['date', 'store_nbr'], how='inner')\n",
    "\n",
    "# # Merge merged_df2 with holidays_events_df based on 'date' column\n",
    "merged_df3 = merged_df1.merge(holidays_events_df, on='date', how='inner')\n",
    "\n",
    "# # Merge merged_df3 with oil_df based on 'date' column\n",
    "test_df2 = merged_df3.merge(oil_df, on='date', how='inner')\n",
    "\n",
    "# # View the first five rows of the merged dataset\n",
    "# test_df2.head()"
   ]
  },
  {
   "cell_type": "code",
   "execution_count": null,
   "metadata": {},
   "outputs": [],
   "source": [
    "test_df2 = test_df2.rename(columns={\"type_x\": \"store_type\", \"type_y\": \"holiday_type\"})"
   ]
  },
  {
   "cell_type": "code",
   "execution_count": null,
   "metadata": {},
   "outputs": [],
   "source": [
    "\n",
    "test_df2['month'] = test_df2['date'].dt.month\n",
    "test_df2['day'] = test_df2['date'].dt.day\n",
    "test_df2['date'] = pd.to_datetime(test_df2['date'])\n",
    "test_df2['year'] = test_df2['date'].dt.year\n",
    "\n",
    "test_df2['day_of_week'] = test_df2['date'].dt.dayofweek"
   ]
  }
 ],
 "metadata": {
  "language_info": {
   "name": "python"
  }
 },
 "nbformat": 4,
 "nbformat_minor": 2
}
